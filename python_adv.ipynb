{
 "cells": [
  {
   "cell_type": "markdown",
   "metadata": {},
   "source": [
    "OOPS Concept "
   ]
  },
  {
   "cell_type": "code",
   "execution_count": 8,
   "metadata": {},
   "outputs": [
    {
     "name": "stdout",
     "output_type": "stream",
     "text": [
      "<__main__.PlayerCharacter object at 0x106e46e90>\n",
      "Cindy\n",
      "Sand\n",
      "44\n",
      "run\n",
      "done\n"
     ]
    }
   ],
   "source": [
    "class PlayerCharacter:\n",
    "    def __init__(self,name,age):\n",
    "        self.name = name #self refers to whatever to the left of the ., in our case it refers to Player1\n",
    "        self.age = age #attributes\n",
    "\n",
    "    def run(self):\n",
    "        print('run')\n",
    "        return 'done'\n",
    "\n",
    "player1 = PlayerCharacter('Cindy',23)\n",
    "player2 = PlayerCharacter('Sand',44)\n",
    "print(player1)\n",
    "print(player1.name)\n",
    "print(player2.name)\n",
    "print(player2.age)\n",
    "\n",
    "print(player1.run())\n"
   ]
  },
  {
   "cell_type": "code",
   "execution_count": 12,
   "metadata": {},
   "outputs": [
    {
     "name": "stdout",
     "output_type": "stream",
     "text": [
      "run\n",
      "done\n"
     ]
    }
   ],
   "source": [
    "class PlayerCharacter:\n",
    "    def __init__(self,name,age):\n",
    "        self.name = name #self refers to whatever to the left of the ., in our case it refers to Player1\n",
    "        self.age = age #attributes\n",
    "\n",
    "    def run(self):\n",
    "        print('run')\n",
    "        return 'done'\n",
    "\n",
    "player1 = PlayerCharacter('Cindy',23)\n",
    "player2 = PlayerCharacter('Sand',44)\n",
    "player2.attack = 50\n",
    "\n",
    "# print(player1.)\n",
    "\n",
    "# help(player1)\n",
    "\n",
    "print(player1.run())\n"
   ]
  },
  {
   "cell_type": "code",
   "execution_count": 15,
   "metadata": {},
   "outputs": [
    {
     "name": "stdout",
     "output_type": "stream",
     "text": [
      "my name is Cindy\n",
      "None\n",
      "my name is Sand\n",
      "None\n"
     ]
    }
   ],
   "source": [
    "class PlayerCharacter:\n",
    "    membership = True\n",
    "    def __init__(self,name,age):\n",
    "        if (PlayerCharacter.membership):\n",
    "            self.name = name #self refers to whatever to the left of the ., in our case it refers to Player1\n",
    "            self.age = age #attributes\n",
    "\n",
    "    def shout(self):\n",
    "        print(f'my name is {self.name}')\n",
    "\n",
    "player1 = PlayerCharacter('Cindy',23)\n",
    "player2 = PlayerCharacter('Sand',44)\n",
    "\n",
    "print(player1.shout())\n",
    "print(player2.shout())\n"
   ]
  },
  {
   "cell_type": "code",
   "execution_count": 20,
   "metadata": {},
   "outputs": [
    {
     "name": "stdout",
     "output_type": "stream",
     "text": [
      "5\n"
     ]
    }
   ],
   "source": [
    "class PlayerCharacter:\n",
    "    membership = True\n",
    "    def __init__(self,name,age):\n",
    "        if (PlayerCharacter.membership):\n",
    "            self.name = name #self refers to whatever to the left of the ., in our case it refers to Player1\n",
    "            self.age = age #attributes\n",
    "\n",
    "    def shout(self):\n",
    "        print(f'my name is {self.name}')\n",
    "\n",
    "    @classmethod \n",
    "    def adding_things(cls, num1, num2):\n",
    "        return num1 + num2\n",
    "\n",
    "\n",
    "# player1 = PlayerCharacter('Cindy',23)\n",
    "# player2 = PlayerCharacter('Sand',44)\n",
    "\n",
    "\n",
    "print(PlayerCharacter.adding_things(2,3))\n",
    "# print(player2.shout())"
   ]
  },
  {
   "cell_type": "code",
   "execution_count": 23,
   "metadata": {},
   "outputs": [
    {
     "name": "stdout",
     "output_type": "stream",
     "text": [
      "5\n"
     ]
    }
   ],
   "source": [
    "class PlayerCharacter:\n",
    "    membership = True\n",
    "    def __init__(self,name,age):\n",
    "        if (PlayerCharacter.membership):\n",
    "            self.name = name #self refers to whatever to the left of the ., in our case it refers to Player1\n",
    "            self.age = age #attributes\n",
    "\n",
    "    def shout(self):\n",
    "        print(f'my name is {self.name}')\n",
    "\n",
    "    @classmethod \n",
    "    def adding_things(cls, num1, num2):\n",
    "        return cls('Teddy',num1 + num2) #instantiating object  teddy with age of 5\n",
    "\n",
    "    @staticmethod\n",
    "    def adding_things(num1, num2):\n",
    "        return num1 + num2 \n",
    "\n",
    "player3 = PlayerCharacter.adding_things(2,3)\n",
    "\n",
    "print(player3)\n",
    "# print(player2.shout())"
   ]
  },
  {
   "cell_type": "code",
   "execution_count": 26,
   "metadata": {},
   "outputs": [
    {
     "name": "stdout",
     "output_type": "stream",
     "text": [
      "My name kshitiz, and I am 100 years old\n"
     ]
    }
   ],
   "source": [
    "#Four pillers of OOPS:\n",
    "#Encapsultion\n",
    "class PlayerCharacter:\n",
    "    def __init__(self, name,age):\n",
    "        self.name = name\n",
    "        self.age = age\n",
    "\n",
    "    def run(self):\n",
    "        print('run')\n",
    "\n",
    "    def speak(self):\n",
    "        print(f'My name {self.name}, and I am {self.age} years old')\n",
    "\n",
    "player1 = PlayerCharacter('kshitiz', 100)\n",
    "player1.speak()\n"
   ]
  },
  {
   "cell_type": "code",
   "execution_count": 27,
   "metadata": {},
   "outputs": [
    {
     "name": "stdout",
     "output_type": "stream",
     "text": [
      "kshitiz\n",
      "100\n",
      "Kshitiz\n",
      "100\n"
     ]
    }
   ],
   "source": [
    "class PlayerCharacter:\n",
    "    def __init__(self, name,age):\n",
    "        self.name = name\n",
    "        self.age = age\n",
    "\n",
    "player1 = PlayerCharacter('kshitiz', 100)\n",
    "print(player1.name)\n",
    "print(player1.age)\n",
    "\n",
    "player2 = {'name': 'Kshitiz', 'age': 100}\n",
    "print(player2['name'])\n",
    "print(player2['age'])"
   ]
  },
  {
   "cell_type": "code",
   "execution_count": 28,
   "metadata": {},
   "outputs": [
    {
     "name": "stdout",
     "output_type": "stream",
     "text": [
      "BOOO\n"
     ]
    }
   ],
   "source": [
    "#Abstraction\n",
    "class PlayerCharacter:\n",
    "    def __init__(self, name,age):\n",
    "        self.name = name\n",
    "        self.age = age\n",
    "\n",
    "    def run(self):\n",
    "        print('run')\n",
    "\n",
    "    def speak(self):\n",
    "        print(f'My name {self.name}, and I am {self.age} years old')\n",
    "\n",
    "player1 = PlayerCharacter('kshitiz', 100)\n",
    "player1.name = '!!!!'\n",
    "player1.speak = 'BOOO'\n",
    "\n",
    "print(player1.speak) #output is BOOO, any programmars can change the value which is not good. "
   ]
  },
  {
   "cell_type": "code",
   "execution_count": 32,
   "metadata": {},
   "outputs": [
    {
     "name": "stdout",
     "output_type": "stream",
     "text": [
      "My name kshitiz, and I am 100 years old\n",
      "None\n"
     ]
    }
   ],
   "source": [
    " #Abstraction\n",
    "#Public and Private Concept\n",
    "class PlayerCharacter:\n",
    "    def __init__(self, name,age):\n",
    "        self._name = name #_name is private variable\n",
    "        self._age = age\n",
    "\n",
    "    def run(self):\n",
    "        print('run')\n",
    "\n",
    "    def speak(self):\n",
    "        print(f'My name {self._name}, and I am {self._age} years old')\n",
    "\n",
    "player1 = PlayerCharacter('kshitiz', 100)\n",
    "# player1.name = '!!!!'\n",
    "# player1.speak = 'BOOO'\n",
    "\n",
    "print(player1.speak()) #output is BOOO, any programmars can change the value which is not good. "
   ]
  },
  {
   "cell_type": "code",
   "execution_count": 33,
   "metadata": {},
   "outputs": [
    {
     "name": "stdout",
     "output_type": "stream",
     "text": [
      "BOOO\n"
     ]
    }
   ],
   "source": [
    " #Abstraction\n",
    "#Public and Private Concept\n",
    "class PlayerCharacter:\n",
    "    def __init__(self, name,age):\n",
    "        self._name = name #_name is private variable\n",
    "        self._age = age\n",
    "\n",
    "    def run(self):\n",
    "        print('run')\n",
    "\n",
    "    def speak(self):\n",
    "        print(f'My name {self._name}, and I am {self._age} years old')\n",
    "\n",
    "player1 = PlayerCharacter('kshitiz', 100)\n",
    "player1.name = '!!!!'\n",
    "player1.speak = 'BOOO'\n",
    "\n",
    "print(player1.speak) #output is BOOO, any programmars can change the value which is not good. "
   ]
  },
  {
   "cell_type": "code",
   "execution_count": 38,
   "metadata": {},
   "outputs": [
    {
     "name": "stdout",
     "output_type": "stream",
     "text": [
      "attacking with power of 50\n",
      "attacking with arrows: arrows left - 100\n",
      "logged in\n",
      "None\n"
     ]
    }
   ],
   "source": [
    "#Inheritance\n",
    "class User:\n",
    "    def sign_in(self):\n",
    "        print('logged in')\n",
    "\n",
    "class Wizard(User):\n",
    "    def __init__(self, name, power):\n",
    "        self.name = name\n",
    "        self.power = power\n",
    "\n",
    "    def attack(self):\n",
    "        print(f'attacking with power of {self.power}')\n",
    "\n",
    "\n",
    "class Archer(User):\n",
    "    def __init__(self, name, num_arrows):\n",
    "        self.name = name\n",
    "        self.num_arrows = num_arrows\n",
    "\n",
    "    def attack(self):\n",
    "        print(f'attacking with arrows: arrows left - {self.num_arrows}')\n",
    "\n",
    "wizard1 = Wizard('Merlin',50)\n",
    "archer1 = Archer('Robin',100) \n",
    "wizard1.attack()\n",
    "archer1.attack()\n",
    "print(wizard1.sign_in())"
   ]
  },
  {
   "cell_type": "code",
   "execution_count": null,
   "metadata": {},
   "outputs": [],
   "source": [
    "#Polymorphism"
   ]
  }
 ],
 "metadata": {
  "kernelspec": {
   "display_name": "Python 3",
   "language": "python",
   "name": "python3"
  },
  "language_info": {
   "codemirror_mode": {
    "name": "ipython",
    "version": 3
   },
   "file_extension": ".py",
   "mimetype": "text/x-python",
   "name": "python",
   "nbconvert_exporter": "python",
   "pygments_lexer": "ipython3",
   "version": "3.10.0"
  }
 },
 "nbformat": 4,
 "nbformat_minor": 2
}
