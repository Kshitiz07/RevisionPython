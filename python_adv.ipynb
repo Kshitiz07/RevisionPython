{
 "cells": [
  {
   "cell_type": "markdown",
   "metadata": {},
   "source": [
    "OOPS Concept "
   ]
  },
  {
   "cell_type": "code",
   "execution_count": 8,
   "metadata": {},
   "outputs": [
    {
     "name": "stdout",
     "output_type": "stream",
     "text": [
      "<__main__.PlayerCharacter object at 0x106e46e90>\n",
      "Cindy\n",
      "Sand\n",
      "44\n",
      "run\n",
      "done\n"
     ]
    }
   ],
   "source": [
    "class PlayerCharacter:\n",
    "    def __init__(self,name,age):\n",
    "        self.name = name #self refers to whatever to the left of the ., in our case it refers to Player1\n",
    "        self.age = age #attributes\n",
    "\n",
    "    def run(self):\n",
    "        print('run')\n",
    "        return 'done'\n",
    "\n",
    "player1 = PlayerCharacter('Cindy',23)\n",
    "player2 = PlayerCharacter('Sand',44)\n",
    "print(player1)\n",
    "print(player1.name)\n",
    "print(player2.name)\n",
    "print(player2.age)\n",
    "\n",
    "print(player1.run())\n"
   ]
  },
  {
   "cell_type": "code",
   "execution_count": 12,
   "metadata": {},
   "outputs": [
    {
     "name": "stdout",
     "output_type": "stream",
     "text": [
      "run\n",
      "done\n"
     ]
    }
   ],
   "source": [
    "class PlayerCharacter:\n",
    "    def __init__(self,name,age):\n",
    "        self.name = name #self refers to whatever to the left of the ., in our case it refers to Player1\n",
    "        self.age = age #attributes\n",
    "\n",
    "    def run(self):\n",
    "        print('run')\n",
    "        return 'done'\n",
    "\n",
    "player1 = PlayerCharacter('Cindy',23)\n",
    "player2 = PlayerCharacter('Sand',44)\n",
    "player2.attack = 50\n",
    "\n",
    "# print(player1.)\n",
    "\n",
    "# help(player1)\n",
    "\n",
    "print(player1.run())\n"
   ]
  },
  {
   "cell_type": "code",
   "execution_count": 15,
   "metadata": {},
   "outputs": [
    {
     "name": "stdout",
     "output_type": "stream",
     "text": [
      "my name is Cindy\n",
      "None\n",
      "my name is Sand\n",
      "None\n"
     ]
    }
   ],
   "source": [
    "class PlayerCharacter:\n",
    "    membership = True\n",
    "    def __init__(self,name,age):\n",
    "        if (PlayerCharacter.membership):\n",
    "            self.name = name #self refers to whatever to the left of the ., in our case it refers to Player1\n",
    "            self.age = age #attributes\n",
    "\n",
    "    def shout(self):\n",
    "        print(f'my name is {self.name}')\n",
    "\n",
    "player1 = PlayerCharacter('Cindy',23)\n",
    "player2 = PlayerCharacter('Sand',44)\n",
    "\n",
    "print(player1.shout())\n",
    "print(player2.shout())\n"
   ]
  },
  {
   "cell_type": "code",
   "execution_count": 20,
   "metadata": {},
   "outputs": [
    {
     "name": "stdout",
     "output_type": "stream",
     "text": [
      "5\n"
     ]
    }
   ],
   "source": [
    "class PlayerCharacter:\n",
    "    membership = True\n",
    "    def __init__(self,name,age):\n",
    "        if (PlayerCharacter.membership):\n",
    "            self.name = name #self refers to whatever to the left of the ., in our case it refers to Player1\n",
    "            self.age = age #attributes\n",
    "\n",
    "    def shout(self):\n",
    "        print(f'my name is {self.name}')\n",
    "\n",
    "    @classmethod \n",
    "    def adding_things(cls, num1, num2):\n",
    "        return num1 + num2\n",
    "\n",
    "\n",
    "# player1 = PlayerCharacter('Cindy',23)\n",
    "# player2 = PlayerCharacter('Sand',44)\n",
    "\n",
    "\n",
    "print(PlayerCharacter.adding_things(2,3))\n",
    "# print(player2.shout())"
   ]
  },
  {
   "cell_type": "code",
   "execution_count": 23,
   "metadata": {},
   "outputs": [
    {
     "name": "stdout",
     "output_type": "stream",
     "text": [
      "5\n"
     ]
    }
   ],
   "source": [
    "class PlayerCharacter:\n",
    "    membership = True\n",
    "    def __init__(self,name,age):\n",
    "        if (PlayerCharacter.membership):\n",
    "            self.name = name #self refers to whatever to the left of the ., in our case it refers to Player1\n",
    "            self.age = age #attributes\n",
    "\n",
    "    def shout(self):\n",
    "        print(f'my name is {self.name}')\n",
    "\n",
    "    @classmethod \n",
    "    def adding_things(cls, num1, num2):\n",
    "        return cls('Teddy',num1 + num2) #instantiating object  teddy with age of 5\n",
    "\n",
    "    @staticmethod\n",
    "    def adding_things(num1, num2):\n",
    "        return num1 + num2 \n",
    "\n",
    "player3 = PlayerCharacter.adding_things(2,3)\n",
    "\n",
    "print(player3)\n",
    "# print(player2.shout())"
   ]
  },
  {
   "cell_type": "code",
   "execution_count": 26,
   "metadata": {},
   "outputs": [
    {
     "name": "stdout",
     "output_type": "stream",
     "text": [
      "My name kshitiz, and I am 100 years old\n"
     ]
    }
   ],
   "source": [
    "#Four pillers of OOPS:\n",
    "#Encapsultion\n",
    "class PlayerCharacter:\n",
    "    def __init__(self, name,age):\n",
    "        self.name = name\n",
    "        self.age = age\n",
    "\n",
    "    def run(self):\n",
    "        print('run')\n",
    "\n",
    "    def speak(self):\n",
    "        print(f'My name {self.name}, and I am {self.age} years old')\n",
    "\n",
    "player1 = PlayerCharacter('kshitiz', 100)\n",
    "player1.speak()\n"
   ]
  },
  {
   "cell_type": "code",
   "execution_count": 27,
   "metadata": {},
   "outputs": [
    {
     "name": "stdout",
     "output_type": "stream",
     "text": [
      "kshitiz\n",
      "100\n",
      "Kshitiz\n",
      "100\n"
     ]
    }
   ],
   "source": [
    "class PlayerCharacter:\n",
    "    def __init__(self, name,age):\n",
    "        self.name = name\n",
    "        self.age = age\n",
    "\n",
    "player1 = PlayerCharacter('kshitiz', 100)\n",
    "print(player1.name)\n",
    "print(player1.age)\n",
    "\n",
    "player2 = {'name': 'Kshitiz', 'age': 100}\n",
    "print(player2['name'])\n",
    "print(player2['age'])"
   ]
  },
  {
   "cell_type": "code",
   "execution_count": 28,
   "metadata": {},
   "outputs": [
    {
     "name": "stdout",
     "output_type": "stream",
     "text": [
      "BOOO\n"
     ]
    }
   ],
   "source": [
    "#Abstraction\n",
    "class PlayerCharacter:\n",
    "    def __init__(self, name,age):\n",
    "        self.name = name\n",
    "        self.age = age\n",
    "\n",
    "    def run(self):\n",
    "        print('run')\n",
    "\n",
    "    def speak(self):\n",
    "        print(f'My name {self.name}, and I am {self.age} years old')\n",
    "\n",
    "player1 = PlayerCharacter('kshitiz', 100)\n",
    "player1.name = '!!!!'\n",
    "player1.speak = 'BOOO'\n",
    "\n",
    "print(player1.speak) #output is BOOO, any programmars can change the value which is not good. "
   ]
  },
  {
   "cell_type": "code",
   "execution_count": 32,
   "metadata": {},
   "outputs": [
    {
     "name": "stdout",
     "output_type": "stream",
     "text": [
      "My name kshitiz, and I am 100 years old\n",
      "None\n"
     ]
    }
   ],
   "source": [
    " #Abstraction\n",
    "#Public and Private Concept\n",
    "class PlayerCharacter:\n",
    "    def __init__(self, name,age):\n",
    "        self._name = name #_name is private variable\n",
    "        self._age = age\n",
    "\n",
    "    def run(self):\n",
    "        print('run')\n",
    "\n",
    "    def speak(self):\n",
    "        print(f'My name {self._name}, and I am {self._age} years old')\n",
    "\n",
    "player1 = PlayerCharacter('kshitiz', 100)\n",
    "# player1.name = '!!!!'\n",
    "# player1.speak = 'BOOO'\n",
    "\n",
    "print(player1.speak()) #output is BOOO, any programmars can change the value which is not good. "
   ]
  },
  {
   "cell_type": "code",
   "execution_count": 33,
   "metadata": {},
   "outputs": [
    {
     "name": "stdout",
     "output_type": "stream",
     "text": [
      "BOOO\n"
     ]
    }
   ],
   "source": [
    " #Abstraction\n",
    "#Public and Private Concept\n",
    "class PlayerCharacter:\n",
    "    def __init__(self, name,age):\n",
    "        self._name = name #_name is private variable\n",
    "        self._age = age\n",
    "\n",
    "    def run(self):\n",
    "        print('run')\n",
    "\n",
    "    def speak(self):\n",
    "        print(f'My name {self._name}, and I am {self._age} years old')\n",
    "\n",
    "player1 = PlayerCharacter('kshitiz', 100)\n",
    "player1.name = '!!!!'\n",
    "player1.speak = 'BOOO'\n",
    "\n",
    "print(player1.speak) #output is BOOO, any programmars can change the value which is not good. "
   ]
  },
  {
   "cell_type": "code",
   "execution_count": 38,
   "metadata": {},
   "outputs": [
    {
     "name": "stdout",
     "output_type": "stream",
     "text": [
      "attacking with power of 50\n",
      "attacking with arrows: arrows left - 100\n",
      "logged in\n",
      "None\n"
     ]
    }
   ],
   "source": [
    "#Inheritance\n",
    "class User:\n",
    "    def sign_in(self):\n",
    "        print('logged in')\n",
    "\n",
    "class Wizard(User):\n",
    "    def __init__(self, name, power):\n",
    "        self.name = name\n",
    "        self.power = power\n",
    "\n",
    "    def attack(self):\n",
    "        print(f'attacking with power of {self.power}')\n",
    "\n",
    "\n",
    "class Archer(User):\n",
    "    def __init__(self, name, num_arrows):\n",
    "        self.name = name\n",
    "        self.num_arrows = num_arrows\n",
    "\n",
    "    def attack(self):\n",
    "        print(f'attacking with arrows: arrows left - {self.num_arrows}')\n",
    "\n",
    "wizard1 = Wizard('Merlin',50)\n",
    "archer1 = Archer('Robin',100) \n",
    "wizard1.attack()\n",
    "archer1.attack()\n",
    "print(wizard1.sign_in())"
   ]
  },
  {
   "cell_type": "code",
   "execution_count": 39,
   "metadata": {},
   "outputs": [],
   "source": [
    "#Polymorphism"
   ]
  },
  {
   "cell_type": "code",
   "execution_count": 42,
   "metadata": {},
   "outputs": [
    {
     "name": "stdout",
     "output_type": "stream",
     "text": [
      "abc@gmail.com\n"
     ]
    }
   ],
   "source": [
    "class User (object):\n",
    "    def sign_in(self):\n",
    "        print('logged in')\n",
    "\n",
    "class Wizard(User):\n",
    "    def __init__(self,name,power,email):\n",
    "        self.name = name\n",
    "        self.power = power\n",
    "        self.email = email\n",
    "\n",
    "    def attack(self):\n",
    "        # User.attack(self)\n",
    "        print(f'attacking with power of {self.power}')\n",
    "\n",
    "wizard1 = Wizard('merlin',60,'abc@gmail.com')\n",
    "print(wizard1.email)"
   ]
  },
  {
   "cell_type": "code",
   "execution_count": 43,
   "metadata": {},
   "outputs": [
    {
     "name": "stdout",
     "output_type": "stream",
     "text": [
      "abc@gmail.com\n"
     ]
    }
   ],
   "source": [
    "#efficient way of doint the code compared to previous. \n",
    "class User (object):\n",
    "    def __init__(self,email):\n",
    "        self.email = email\n",
    "    \n",
    "    def sign_in(self):\n",
    "        print('logged in')\n",
    "\n",
    "class Wizard(User):\n",
    "    def __init__(self,name,power,email):\n",
    "        User.__init__(self,email)\n",
    "        self.name = name\n",
    "        self.power = power\n",
    "        # self.email = email\n",
    "\n",
    "    def attack(self):\n",
    "        # User.attack(self)\n",
    "        print(f'attacking with power of {self.power}')\n",
    "\n",
    "wizard1 = Wizard('merlin',60,'abc@gmail.com')\n",
    "print(wizard1.email)"
   ]
  },
  {
   "cell_type": "code",
   "execution_count": 48,
   "metadata": {},
   "outputs": [
    {
     "name": "stdout",
     "output_type": "stream",
     "text": [
      "<__main__.Wizard object at 0x106dbc700>\n"
     ]
    }
   ],
   "source": [
    "# More efficient way of doing using super,  the code compared to previous. \n",
    "class User (object):\n",
    "    def __init__(self,email):\n",
    "        self.email = email\n",
    "    \n",
    "    def sign_in(self):\n",
    "        print('logged in')\n",
    "\n",
    "\n",
    "class Wizard(User):\n",
    "    def __init__(self,name,power,email):\n",
    "        super()\n",
    "        # User.__init__(self,email)\n",
    "        self.name = name\n",
    "        self.power = power\n",
    "        # self.email = email\n",
    "\n",
    "    def attack(self):\n",
    "        # User.attack(self)\n",
    "        print(f'attacking with power of {self.power}')\n",
    "\n",
    "#interospection\n",
    "wizard1 = Wizard('merlin',60,'abc@gmail.com')\n",
    "# print(wizard1)\n",
    "print(dir(wizard1))"
   ]
  },
  {
   "cell_type": "code",
   "execution_count": 50,
   "metadata": {},
   "outputs": [
    {
     "name": "stdout",
     "output_type": "stream",
     "text": [
      "hellooooo, Kshitiz :D\n",
      "hellooooo, Dan :D\n",
      "hellooooo, Emiley :D\n"
     ]
    }
   ],
   "source": [
    "#parameters\n",
    "def say_hello(name, emoji):\n",
    "    print(f'hellooooo, {name} {emoji}')\n",
    "\n",
    "#arguments\n",
    "say_hello('Kshitiz', ':D')\n",
    "say_hello('Dan', ':D')\n",
    "say_hello('Emiley', ':D')\n",
    "\n",
    "\n"
   ]
  },
  {
   "cell_type": "code",
   "execution_count": 51,
   "metadata": {},
   "outputs": [
    {
     "name": "stdout",
     "output_type": "stream",
     "text": [
      "None\n"
     ]
    }
   ],
   "source": [
    "#return \n",
    "\n",
    "def sum (num1, num2):\n",
    "    num1 + num2\n",
    "\n",
    "print(sum (4,5))"
   ]
  },
  {
   "cell_type": "code",
   "execution_count": 54,
   "metadata": {},
   "outputs": [
    {
     "name": "stdout",
     "output_type": "stream",
     "text": [
      "15\n"
     ]
    }
   ],
   "source": [
    "def sum (num1, num2):\n",
    "    return num1 + num2\n",
    "\n",
    "print(sum (10,5))\n",
    "# [1,2,3].clear() #This only clears the list and empty the list but don't return the list. \n",
    "\n",
    "#Function should do one thing realy well.\n",
    "#Function should return something.\n"
   ]
  },
  {
   "cell_type": "code",
   "execution_count": 60,
   "metadata": {},
   "outputs": [
    {
     "name": "stdout",
     "output_type": "stream",
     "text": [
      "30\n"
     ]
    }
   ],
   "source": [
    "# def sum (num1, num2):\n",
    "#     return num1 + num2\n",
    "\n",
    "# total = sum(10,20)\n",
    "# print(total)\n",
    "\n",
    "# def sum (num1, num2):\n",
    "#     def another_func(num1, num2):\n",
    "#         return num1 + num2\n",
    "#     return another_func\n",
    "\n",
    "# total = sum(10,20)\n",
    "# print(total(10,20))\n",
    "\n",
    "# def sum (num1, num2):\n",
    "#     def another_func(num1, num2):\n",
    "#         return num1 + num2\n",
    "#     return another_func(num1, num2)\n",
    "\n",
    "# total = sum(10,20)\n",
    "# print(total)\n",
    "\n",
    "#The above function is very confusiing so need to change\n",
    "\n",
    "def sum (num1, num2):\n",
    "    def another_func(n1, n2):\n",
    "        return n1 + n2\n",
    "    return another_func(num1, num2)\n",
    "\n",
    "total = sum(10,20)\n",
    "print(total)\n"
   ]
  },
  {
   "cell_type": "code",
   "execution_count": 61,
   "metadata": {},
   "outputs": [
    {
     "name": "stdout",
     "output_type": "stream",
     "text": [
      "30\n"
     ]
    }
   ],
   "source": [
    "def sum (num1, num2):\n",
    "    def another_func(n1, n2):\n",
    "        return n1 + n2\n",
    "    return another_func(num1, num2)\n",
    "\n",
    "total = sum(10,20)\n",
    "print(total)"
   ]
  },
  {
   "cell_type": "code",
   "execution_count": 65,
   "metadata": {},
   "outputs": [
    {
     "name": "stdout",
     "output_type": "stream",
     "text": [
      "red\n",
      "red\n",
      "5\n",
      "yes??\n"
     ]
    }
   ],
   "source": [
    "#Dunder methods extended\n",
    "class Toy():\n",
    "    def __init__(self,color,age):\n",
    "        self.color = color\n",
    "        self.age = age\n",
    "        self.my_dict = {\n",
    "            'name' : 'yoyo'\n",
    "        }\n",
    "\n",
    "    def __str__(self):\n",
    "        return f'{self.color}'\n",
    "    \n",
    "    def __len__(self):\n",
    "        return 5\n",
    "\n",
    "    def __call__(self):\n",
    "        return('yes??')\n",
    "    \n",
    "    def __getitem__(self,i):\n",
    "        return  self.my_dict[i]\n",
    "\n",
    "\n",
    "action_figure = Toy('red',0)\n",
    "print(action_figure.__str__())\n",
    "print(str(action_figure))\n",
    "print(len(action_figure))\n",
    "print(action_figure())\n",
    "print(action_figure['name'])"
   ]
  },
  {
   "cell_type": "code",
   "execution_count": null,
   "metadata": {},
   "outputs": [],
   "source": []
  }
 ],
 "metadata": {
  "kernelspec": {
   "display_name": "Python 3",
   "language": "python",
   "name": "python3"
  },
  "language_info": {
   "codemirror_mode": {
    "name": "ipython",
    "version": 3
   },
   "file_extension": ".py",
   "mimetype": "text/x-python",
   "name": "python",
   "nbconvert_exporter": "python",
   "pygments_lexer": "ipython3",
   "version": "3.10.0"
  }
 },
 "nbformat": 4,
 "nbformat_minor": 2
}
