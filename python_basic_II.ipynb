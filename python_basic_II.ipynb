{
 "cells": [
  {
   "cell_type": "markdown",
   "metadata": {},
   "source": [
    "Conditional Logic"
   ]
  },
  {
   "cell_type": "code",
   "execution_count": 4,
   "metadata": {},
   "outputs": [
    {
     "name": "stdout",
     "output_type": "stream",
     "text": [
      "Inside Indentation\n",
      "You are old enough to drive!\n",
      "CheckCheck outside indentation\n"
     ]
    }
   ],
   "source": [
    "is_old = True\n",
    "is_licenced = True\n",
    "\n",
    "if is_old:\n",
    "    print('Inside Indentation')\n",
    "    print(\"You are old enough to drive!\")\n",
    "\n",
    "print ('CheckCheck outside indentation')\n",
    "\n"
   ]
  },
  {
   "cell_type": "code",
   "execution_count": 5,
   "metadata": {},
   "outputs": [
    {
     "name": "stdout",
     "output_type": "stream",
     "text": [
      "CheckCheck outside indentation\n"
     ]
    }
   ],
   "source": [
    "is_old = False\n",
    "is_licenced = True\n",
    "\n",
    "if is_old:\n",
    "    print('Inside Indentation')\n",
    "    print(\"You are old enough to drive!\")\n",
    "\n",
    "print ('CheckCheck outside indentation')\n"
   ]
  },
  {
   "cell_type": "code",
   "execution_count": 6,
   "metadata": {},
   "outputs": [
    {
     "name": "stdout",
     "output_type": "stream",
     "text": [
      "You are not old enough to drive!\n",
      "CheckCheck outside indentation\n"
     ]
    }
   ],
   "source": [
    "is_old = False\n",
    "is_licenced = True\n",
    "\n",
    "if is_old:\n",
    "    print('Inside Indentation')\n",
    "    print(\"You are old enough to drive!\")\n",
    "else:\n",
    "    print('You are not old enough to drive!')\n",
    "print ('CheckCheck outside indentation')\n"
   ]
  },
  {
   "cell_type": "code",
   "execution_count": 7,
   "metadata": {},
   "outputs": [
    {
     "name": "stdout",
     "output_type": "stream",
     "text": [
      "Inside Indentation\n",
      "You are old enough to drive!\n",
      "CheckCheck outside indentation\n"
     ]
    }
   ],
   "source": [
    "is_old = True\n",
    "is_licenced = True\n",
    "\n",
    "if is_old:\n",
    "    print('Inside Indentation')\n",
    "    print(\"You are old enough to drive!\")\n",
    "else:\n",
    "    print('You are not old enough to drive!')\n",
    "print ('CheckCheck outside indentation')\n"
   ]
  },
  {
   "cell_type": "code",
   "execution_count": 9,
   "metadata": {},
   "outputs": [
    {
     "name": "stdout",
     "output_type": "stream",
     "text": [
      "You can drive now!\n",
      "CheckCheck outside indentation\n"
     ]
    }
   ],
   "source": [
    "is_old = False\n",
    "is_licenced = True\n",
    "\n",
    "if is_old:\n",
    "    print('Inside Indentation')\n",
    "    print(\"You are old enough to drive!\")\n",
    "elif is_licenced:\n",
    "    print('You can drive now!')\n",
    "print ('CheckCheck outside indentation')\n"
   ]
  },
  {
   "cell_type": "code",
   "execution_count": 11,
   "metadata": {},
   "outputs": [
    {
     "name": "stdout",
     "output_type": "stream",
     "text": [
      "You cannot drive now!\n",
      "CheckCheck outside indentation\n"
     ]
    }
   ],
   "source": [
    "is_old = False\n",
    "is_licenced = False\n",
    "\n",
    "if is_old:\n",
    "    print('Inside Indentation')\n",
    "    print(\"You are old enough to drive!\")\n",
    "elif is_licenced:\n",
    "    print('You can drive now!')\n",
    "else:\n",
    "    print('You cannot drive now!')\n",
    "print ('CheckCheck outside indentation')\n"
   ]
  },
  {
   "cell_type": "code",
   "execution_count": 12,
   "metadata": {},
   "outputs": [
    {
     "name": "stdout",
     "output_type": "stream",
     "text": [
      "CheckCheck outside indentation\n"
     ]
    }
   ],
   "source": [
    "is_old = False\n",
    "is_licenced = True\n",
    "\n",
    "if is_old and is_licenced:\n",
    "    print('Inside Indentation')\n",
    "    print(\"You are old enough to drive!\")\n",
    "print ('CheckCheck outside indentation')\n"
   ]
  },
  {
   "cell_type": "code",
   "execution_count": 14,
   "metadata": {},
   "outputs": [
    {
     "name": "stdout",
     "output_type": "stream",
     "text": [
      "Inside Indentation\n",
      "You are old enough to drive!\n",
      "CheckCheck outside indentation\n"
     ]
    }
   ],
   "source": [
    "is_old = True\n",
    "is_licenced = True\n",
    "\n",
    "if is_old and is_licenced:\n",
    "    print('Inside Indentation')\n",
    "    print(\"You are old enough to drive!\")\n",
    "else:\n",
    "    print('You cannot drive now!')\n",
    "print ('CheckCheck outside indentation')\n"
   ]
  },
  {
   "cell_type": "code",
   "execution_count": 19,
   "metadata": {},
   "outputs": [
    {
     "name": "stdout",
     "output_type": "stream",
     "text": [
      "True\n",
      "True\n",
      "False\n",
      "False\n",
      "Inside Indentation\n",
      "You are old enough to drive!\n",
      "CheckCheck outside indentation\n"
     ]
    }
   ],
   "source": [
    "is_old = \"hello\"\n",
    "is_licenced = 5\n",
    "\n",
    "#Truthy and Falsy\n",
    "print(bool('hello'))\n",
    "print(bool(5))\n",
    "\n",
    "print(bool(''))\n",
    "print(bool())\n",
    "\n",
    "if is_old and is_licenced:\n",
    "    print('Inside Indentation')\n",
    "    print(\"You are old enough to drive!\")\n",
    "else:\n",
    "    print('You cannot drive now!')\n",
    "print ('CheckCheck outside indentation')"
   ]
  },
  {
   "cell_type": "code",
   "execution_count": 21,
   "metadata": {},
   "outputs": [
    {
     "name": "stdout",
     "output_type": "stream",
     "text": [
      "Truthy value so go ahead\n"
     ]
    }
   ],
   "source": [
    "username = 'johnny'\n",
    "password ='123'\n",
    "\n",
    "if 'password' and 'username':\n",
    "    print(\"Truthy value so go ahead\")\n",
    "else:\n",
    "    print('Please enter something') "
   ]
  },
  {
   "cell_type": "code",
   "execution_count": 23,
   "metadata": {},
   "outputs": [
    {
     "name": "stdout",
     "output_type": "stream",
     "text": [
      "message allowed\n"
     ]
    }
   ],
   "source": [
    "#Ternary Operator\n",
    "is_friend = True\n",
    "can_message = \"message allowed\" if is_friend else \"not allowed to message\"\n",
    "\n",
    "print(can_message)"
   ]
  },
  {
   "cell_type": "code",
   "execution_count": 24,
   "metadata": {},
   "outputs": [
    {
     "name": "stdout",
     "output_type": "stream",
     "text": [
      "not allowed to message\n"
     ]
    }
   ],
   "source": [
    "#Ternary Operator\n",
    "is_friend = False\n",
    "can_message = \"message allowed\" if is_friend else \"not allowed to message\"\n",
    "\n",
    "print(can_message)"
   ]
  },
  {
   "cell_type": "code",
   "execution_count": 25,
   "metadata": {},
   "outputs": [
    {
     "name": "stdout",
     "output_type": "stream",
     "text": [
      "True\n"
     ]
    }
   ],
   "source": [
    "#Short Circuiting\n",
    "is_Friend = True\n",
    "is_User = True\n",
    "\n",
    "print(is_Friend and is_User)"
   ]
  },
  {
   "cell_type": "code",
   "execution_count": 29,
   "metadata": {},
   "outputs": [
    {
     "name": "stdout",
     "output_type": "stream",
     "text": [
      "Best friends\n"
     ]
    }
   ],
   "source": [
    "#Short Circuiting\n",
    "is_Friend = False\n",
    "is_User = True\n",
    "\n",
    "if is_Friend and is_User:\n",
    "    print('Best friends forever')\n",
    "\n",
    "\n",
    "if is_Friend or is_User:\n",
    "    print('Best friends')"
   ]
  },
  {
   "cell_type": "code",
   "execution_count": 37,
   "metadata": {},
   "outputs": [
    {
     "name": "stdout",
     "output_type": "stream",
     "text": [
      "False\n",
      "False\n",
      "False\n",
      "True\n",
      "False\n",
      "True\n",
      "False\n",
      "True\n",
      "False\n",
      "False\n"
     ]
    }
   ],
   "source": [
    "#Logical Operators\n",
    "\n",
    "print(4>5)\n",
    "print(4==5)\n",
    "print('hello'==True)\n",
    "print('a'>'A')\n",
    "print(1<2>3<4)\n",
    "print(0<1<3<5)\n",
    "print(0!=0)\n",
    "print(3<=4)\n",
    "print(not(True))\n",
    "print(not(1==1))\n",
    "# is_Friend = False\n",
    "# is_User = True\n",
    "\n",
    "# if is_Friend and is_User:\n",
    "#     print('Best friends forever')\n",
    "\n",
    "# if is_Friend or is_User:\n",
    "#     print('Best friends')"
   ]
  },
  {
   "cell_type": "code",
   "execution_count": 38,
   "metadata": {},
   "outputs": [
    {
     "name": "stdout",
     "output_type": "stream",
     "text": [
      "True\n",
      "False\n",
      "False\n",
      "True\n",
      "True\n"
     ]
    }
   ],
   "source": [
    "print(True==1)\n",
    "print(''==1)\n",
    "print([]==1)\n",
    "print(10==10.0)\n",
    "print([]==[])"
   ]
  },
  {
   "cell_type": "code",
   "execution_count": 39,
   "metadata": {},
   "outputs": [
    {
     "name": "stdout",
     "output_type": "stream",
     "text": [
      "True\n",
      "True\n",
      "False\n",
      "False\n",
      "False\n"
     ]
    },
    {
     "name": "stderr",
     "output_type": "stream",
     "text": [
      "<>:2: SyntaxWarning: \"is\" with a literal. Did you mean \"==\"?\n",
      "<>:4: SyntaxWarning: \"is\" with a literal. Did you mean \"==\"?\n",
      "<>:2: SyntaxWarning: \"is\" with a literal. Did you mean \"==\"?\n",
      "<>:4: SyntaxWarning: \"is\" with a literal. Did you mean \"==\"?\n",
      "/var/folders/s_/f_x_sl_53d787_4v3fn0npl00000gn/T/ipykernel_3432/1477833437.py:2: SyntaxWarning: \"is\" with a literal. Did you mean \"==\"?\n",
      "  print('1' is '1')\n",
      "/var/folders/s_/f_x_sl_53d787_4v3fn0npl00000gn/T/ipykernel_3432/1477833437.py:4: SyntaxWarning: \"is\" with a literal. Did you mean \"==\"?\n",
      "  print(10 is 10.0)\n"
     ]
    }
   ],
   "source": [
    "print(True is True)\n",
    "print('1' is '1')\n",
    "print([] is [])\n",
    "print(10 is 10.0)\n",
    "print([1,2,3] is [1,2,3] )"
   ]
  },
  {
   "cell_type": "code",
   "execution_count": 40,
   "metadata": {},
   "outputs": [
    {
     "name": "stdout",
     "output_type": "stream",
     "text": [
      "Z\n",
      "e\n",
      "r\n",
      "o\n",
      " \n",
      "T\n",
      "o\n",
      " \n",
      "M\n",
      "a\n",
      "s\n",
      "t\n",
      "e\n",
      "r\n",
      "y\n"
     ]
    }
   ],
   "source": [
    "for item in 'Zero To Mastery':\n",
    "    print (item)\n",
    "\n",
    "    "
   ]
  },
  {
   "cell_type": "code",
   "execution_count": 42,
   "metadata": {},
   "outputs": [
    {
     "name": "stdout",
     "output_type": "stream",
     "text": [
      "1\n",
      "2\n",
      "3\n",
      "4\n",
      "5\n",
      "5\n"
     ]
    }
   ],
   "source": [
    "for item in (1,2,3,4,5):\n",
    "    print(item)\n",
    "print(item)"
   ]
  },
  {
   "cell_type": "code",
   "execution_count": 44,
   "metadata": {},
   "outputs": [
    {
     "name": "stdout",
     "output_type": "stream",
     "text": [
      "1 a\n",
      "1 b\n",
      "1 c\n",
      "2 a\n",
      "2 b\n",
      "2 c\n",
      "3 a\n",
      "3 b\n",
      "3 c\n",
      "4 a\n",
      "4 b\n",
      "4 c\n",
      "5 a\n",
      "5 b\n",
      "5 c\n"
     ]
    }
   ],
   "source": [
    "for item in (1,2,3,4,5):\n",
    "    for x in ['a','b','c',]:\n",
    "        print(item,x)"
   ]
  },
  {
   "cell_type": "code",
   "execution_count": 52,
   "metadata": {},
   "outputs": [
    {
     "name": "stdout",
     "output_type": "stream",
     "text": [
      "name Kshtiz\n",
      "age 123\n",
      "can_swim True\n"
     ]
    }
   ],
   "source": [
    "user = {\n",
    "    'name' : 'Kshtiz',\n",
    "    'age' : 123,\n",
    "    'can_swim' : True\n",
    "}\n",
    "\n",
    "# for item in user:\n",
    "#     print(item)\n",
    "\n",
    "# for item in user.items():\n",
    "#     print(item)\n",
    "\n",
    "# for item in user.values():\n",
    "#     print(item)\n",
    "\n",
    "# for item in user.keys():\n",
    "#     print(item)\n",
    "\n",
    "# for key,value in user.items():\n",
    "#     print(key,value)\n",
    "\n",
    "for k,v in user.items():\n",
    "    print(k,v)"
   ]
  },
  {
   "cell_type": "code",
   "execution_count": 55,
   "metadata": {},
   "outputs": [
    {
     "name": "stdout",
     "output_type": "stream",
     "text": [
      "There are 10 digits in the list and their sum is 55\n"
     ]
    }
   ],
   "source": [
    "#counter\n",
    "my_List = [1,2,3,4,5,6,7,8,9,10]\n",
    "count = 0\n",
    "sum = 0\n",
    "for i in my_List:\n",
    "    sum = sum + i\n",
    "    count = count + 1\n",
    "\n",
    "print(f'There are {count} digits in the list and their sum is {sum}')"
   ]
  },
  {
   "cell_type": "code",
   "execution_count": 57,
   "metadata": {},
   "outputs": [
    {
     "name": "stdout",
     "output_type": "stream",
     "text": [
      "50\n"
     ]
    }
   ],
   "source": [
    "#Enumerate\n",
    "# for i,char in enumerate(list(range(100))):\n",
    "#     print(i,char)\n",
    "\n",
    "#to find the location of number 50.\n",
    "for i,char in enumerate(list(range(100))):\n",
    "    if char==50:\n",
    "        print(i)\n"
   ]
  },
  {
   "cell_type": "code",
   "execution_count": 60,
   "metadata": {},
   "outputs": [
    {
     "name": "stdout",
     "output_type": "stream",
     "text": [
      "0\n"
     ]
    }
   ],
   "source": [
    "#while loop\n",
    "\n",
    "# i = 0\n",
    "# while i<50:\n",
    "#     print(i)\n",
    "#     i+=1\n",
    "# else:\n",
    "#     print('done with all the work')\n",
    "\n",
    "#Why is else needed? let's try using break now. \n",
    "    \n",
    "i = 0\n",
    "while i<50:\n",
    "    print(i)\n",
    "    i+=1\n",
    "    break\n",
    "else:\n",
    "    print('done with all the work')\n",
    "\n",
    "#It never goes to else part if we use break. "
   ]
  },
  {
   "cell_type": "code",
   "execution_count": 66,
   "metadata": {},
   "outputs": [
    {
     "name": "stdout",
     "output_type": "stream",
     "text": [
      "   *   \n",
      "  ***  \n",
      " ***** \n",
      "*******\n",
      "   *   \n",
      "   *   \n"
     ]
    }
   ],
   "source": [
    "#Exercise\n",
    "picture = [\n",
    "    [0,0,0,1,0,0,0],\n",
    "    [0,0,1,1,1,0,0],\n",
    "    [0,1,1,1,1,1,0],\n",
    "    [1,1,1,1,1,1,1],\n",
    "    [0,0,0,1,0,0,0],\n",
    "    [0,0,0,1,0,0,0],\n",
    "]\n",
    "\n",
    "for row in picture:\n",
    "    for pixel in row:\n",
    "        if (pixel==1):\n",
    "            print('*', end='')\n",
    "        else:\n",
    "            print(' ', end ='')\n",
    "    print('')\n"
   ]
  },
  {
   "cell_type": "code",
   "execution_count": 74,
   "metadata": {},
   "outputs": [
    {
     "name": "stdout",
     "output_type": "stream",
     "text": [
      "Duplicate list is ['b', 'n']\n"
     ]
    }
   ],
   "source": [
    "#Check the dublicates in list.\n",
    "some_list = ['a','b','c','b','d','m','n','n']\n",
    "dublicate_list =[]\n",
    "for value in some_list:\n",
    "    if some_list.count(value) > 1:\n",
    "        if value not in dublicate_list:\n",
    "            dublicate_list.append(value)\n",
    "\n",
    "print(f'Duplicate list is {dublicate_list}')"
   ]
  },
  {
   "cell_type": "code",
   "execution_count": 75,
   "metadata": {},
   "outputs": [
    {
     "name": "stdout",
     "output_type": "stream",
     "text": [
      "   *   \n",
      "  ***  \n",
      " ***** \n",
      "*******\n",
      "   *   \n",
      "   *   \n",
      "   *   \n",
      "  ***  \n",
      " ***** \n",
      "*******\n",
      "   *   \n",
      "   *   \n"
     ]
    }
   ],
   "source": [
    "\n",
    "\n",
    "picture = [\n",
    "    [0,0,0,1,0,0,0],\n",
    "    [0,0,1,1,1,0,0],\n",
    "    [0,1,1,1,1,1,0],\n",
    "    [1,1,1,1,1,1,1],\n",
    "    [0,0,0,1,0,0,0],\n",
    "    [0,0,0,1,0,0,0],\n",
    "]\n",
    "\n",
    "\n",
    "def show_tree():\n",
    "    for row in picture:\n",
    "        for pixel in row:\n",
    "            if (pixel==1):\n",
    "                print('*', end='')\n",
    "            else:\n",
    "                print(' ', end ='')\n",
    "        print('')\n",
    "\n",
    "show_tree()\n",
    "show_tree()"
   ]
  },
  {
   "cell_type": "code",
   "execution_count": 77,
   "metadata": {},
   "outputs": [
    {
     "name": "stdout",
     "output_type": "stream",
     "text": [
      "hellooo Kshitiz <3\n",
      "hellooo ABC <3\n",
      "hellooo Bibi <3\n"
     ]
    }
   ],
   "source": [
    "#positional parameter\n",
    "def say_hello(name, emoji):\n",
    "    print(f'hellooo {name} {emoji}')\n",
    "    \n",
    "#positional arguments\n",
    "say_hello('Kshitiz','<3')\n",
    "say_hello('ABC','<3')\n",
    "\n",
    "#keyword arguments\n",
    "say_hello(name='Bibi', emoji='<3')"
   ]
  },
  {
   "cell_type": "code",
   "execution_count": 79,
   "metadata": {},
   "outputs": [
    {
     "name": "stdout",
     "output_type": "stream",
     "text": [
      "30\n"
     ]
    }
   ],
   "source": [
    "def sum(num1, num2):\n",
    "    def another_func(num1, num2):\n",
    "        return num1 + num2\n",
    "    return another_func(num1, num2)\n",
    "\n",
    "total = sum(10,20)\n",
    "print(total)\n"
   ]
  },
  {
   "cell_type": "code",
   "execution_count": 80,
   "metadata": {},
   "outputs": [
    {
     "name": "stdout",
     "output_type": "stream",
     "text": [
      "30\n"
     ]
    }
   ],
   "source": [
    "def sum(num1, num2):\n",
    "    def another_func(num1, num2):\n",
    "        return num1 + num2\n",
    "    return another_func(num1, num2)\n",
    "    #below return will not get executed \n",
    "    return 5\n",
    "    print ('hello')\n",
    "\n",
    "total = sum(10,20)\n",
    "print(total)"
   ]
  },
  {
   "cell_type": "code",
   "execution_count": 81,
   "metadata": {},
   "outputs": [],
   "source": [
    "# #Methods vs Functions\n",
    "# list()\n",
    "# print()\n",
    "# max()\n",
    "# min()\n",
    "# input()"
   ]
  },
  {
   "cell_type": "code",
   "execution_count": 93,
   "metadata": {},
   "outputs": [
    {
     "name": "stdout",
     "output_type": "stream",
     "text": [
      "1 2 3 4 5\n"
     ]
    },
    {
     "ename": "TypeError",
     "evalue": "sum() missing 1 required positional argument: 'num2'",
     "output_type": "error",
     "traceback": [
      "\u001b[0;31m---------------------------------------------------------------------------\u001b[0m",
      "\u001b[0;31mTypeError\u001b[0m                                 Traceback (most recent call last)",
      "Input \u001b[0;32mIn [93]\u001b[0m, in \u001b[0;36m<cell line: 7>\u001b[0;34m()\u001b[0m\n\u001b[1;32m      4\u001b[0m     \u001b[38;5;28mprint\u001b[39m(\u001b[38;5;241m*\u001b[39margs)\n\u001b[1;32m      5\u001b[0m     \u001b[38;5;28;01mreturn\u001b[39;00m \u001b[38;5;28msum\u001b[39m(args)\n\u001b[0;32m----> 7\u001b[0m \u001b[38;5;28mprint\u001b[39m(\u001b[43msuper_func\u001b[49m\u001b[43m(\u001b[49m\u001b[38;5;241;43m1\u001b[39;49m\u001b[43m,\u001b[49m\u001b[38;5;241;43m2\u001b[39;49m\u001b[43m,\u001b[49m\u001b[38;5;241;43m3\u001b[39;49m\u001b[43m,\u001b[49m\u001b[38;5;241;43m4\u001b[39;49m\u001b[43m,\u001b[49m\u001b[38;5;241;43m5\u001b[39;49m\u001b[43m)\u001b[49m)\n",
      "Input \u001b[0;32mIn [93]\u001b[0m, in \u001b[0;36msuper_func\u001b[0;34m(*args)\u001b[0m\n\u001b[1;32m      3\u001b[0m \u001b[38;5;28;01mdef\u001b[39;00m \u001b[38;5;21msuper_func\u001b[39m(\u001b[38;5;241m*\u001b[39margs):\n\u001b[1;32m      4\u001b[0m     \u001b[38;5;28mprint\u001b[39m(\u001b[38;5;241m*\u001b[39margs)\n\u001b[0;32m----> 5\u001b[0m     \u001b[38;5;28;01mreturn\u001b[39;00m \u001b[38;5;28;43msum\u001b[39;49m\u001b[43m(\u001b[49m\u001b[43margs\u001b[49m\u001b[43m)\u001b[49m\n",
      "\u001b[0;31mTypeError\u001b[0m: sum() missing 1 required positional argument: 'num2'"
     ]
    }
   ],
   "source": [
    "# *args **kwargs\n",
    "\n",
    "def super_func(*args):\n",
    "    print(*args)\n",
    "    return sum(args)\n",
    "\n",
    "print(super_func(1,2,3,4,5))"
   ]
  },
  {
   "cell_type": "code",
   "execution_count": 94,
   "metadata": {},
   "outputs": [
    {
     "ename": "TypeError",
     "evalue": "super_func() got an unexpected keyword argument 'num1'",
     "output_type": "error",
     "traceback": [
      "\u001b[0;31m---------------------------------------------------------------------------\u001b[0m",
      "\u001b[0;31mTypeError\u001b[0m                                 Traceback (most recent call last)",
      "Input \u001b[0;32mIn [94]\u001b[0m, in \u001b[0;36m<cell line: 5>\u001b[0;34m()\u001b[0m\n\u001b[1;32m      2\u001b[0m     \u001b[38;5;28mprint\u001b[39m(kwargs)\n\u001b[1;32m      3\u001b[0m     \u001b[38;5;28;01mreturn\u001b[39;00m \u001b[38;5;28msum\u001b[39m(args) \u001b[38;5;241m+\u001b[39m \u001b[38;5;28msum\u001b[39m(items \u001b[38;5;129;01min\u001b[39;00m kwargs\u001b[38;5;241m.\u001b[39mvalues())\n\u001b[0;32m----> 5\u001b[0m \u001b[38;5;28mprint\u001b[39m(\u001b[43msuper_func\u001b[49m\u001b[43m(\u001b[49m\u001b[38;5;241;43m1\u001b[39;49m\u001b[43m,\u001b[49m\u001b[38;5;241;43m2\u001b[39;49m\u001b[43m,\u001b[49m\u001b[38;5;241;43m3\u001b[39;49m\u001b[43m,\u001b[49m\u001b[38;5;241;43m4\u001b[39;49m\u001b[43m,\u001b[49m\u001b[38;5;241;43m5\u001b[39;49m\u001b[43m,\u001b[49m\u001b[43m \u001b[49m\u001b[43mnum1\u001b[49m\u001b[43m \u001b[49m\u001b[38;5;241;43m=\u001b[39;49m\u001b[38;5;241;43m5\u001b[39;49m\u001b[43m,\u001b[49m\u001b[43m \u001b[49m\u001b[43mnum2\u001b[49m\u001b[38;5;241;43m=\u001b[39;49m\u001b[38;5;241;43m10\u001b[39;49m\u001b[43m)\u001b[49m)\n",
      "\u001b[0;31mTypeError\u001b[0m: super_func() got an unexpected keyword argument 'num1'"
     ]
    }
   ],
   "source": [
    "def super_func(*kwargs):\n",
    "    print(kwargs)\n",
    "    return sum(args) + sum(items in kwargs.values())\n",
    "\n",
    "print(super_func(1,2,3,4,5, num1 =5, num2=10))"
   ]
  },
  {
   "cell_type": "code",
   "execution_count": 95,
   "metadata": {},
   "outputs": [
    {
     "name": "stdout",
     "output_type": "stream",
     "text": [
      "10\n"
     ]
    }
   ],
   "source": [
    "#To find the highest even number\n",
    "def highest_even(li):\n",
    "    evens = []\n",
    "    for item in li:\n",
    "        if item % 2 ==0:\n",
    "            evens.append(item)\n",
    "    return max(evens)\n",
    "\n",
    "print(highest_even([2,10,2,3,4,5,11]))"
   ]
  },
  {
   "cell_type": "code",
   "execution_count": 101,
   "metadata": {},
   "outputs": [
    {
     "name": "stdout",
     "output_type": "stream",
     "text": [
      "3\n"
     ]
    }
   ],
   "source": [
    "#Scope - what variables do I have access to? \n",
    "\n",
    "# total = 0\n",
    "# def count():\n",
    "#     total += 1\n",
    "#     return total\n",
    "\n",
    "# count()\n",
    "# count()\n",
    "# print(count())\n",
    "\n",
    "#Approach -2 \n",
    "# total = 0\n",
    "# def count():\n",
    "#     global total \n",
    "#     total += 1\n",
    "#     return total\n",
    "\n",
    "# count()\n",
    "# count()\n",
    "# print(count())\n",
    "#Not a good approach\n",
    "\n",
    "#Approach - 3\n",
    "total = 0\n",
    "def count(total):\n",
    "    total += 1\n",
    "    return total\n",
    "\n",
    "\n",
    "print(count(count(count(total))))\n"
   ]
  },
  {
   "cell_type": "code",
   "execution_count": 103,
   "metadata": {},
   "outputs": [
    {
     "name": "stdout",
     "output_type": "stream",
     "text": [
      "inner: nonlocal\n",
      "outer: nonlocal\n"
     ]
    }
   ],
   "source": [
    "#Scope - what variables do I have access to? \n",
    "def outer():\n",
    "    x = \"local\"\n",
    "    def inner():\n",
    "        nonlocal x\n",
    "        x = \"nonlocal\"\n",
    "        print(\"inner:\",x)\n",
    "\n",
    "    inner()\n",
    "    print(\"outer:\", x)\n",
    "\n",
    "outer()\n",
    "\n",
    "#1 Start with local\n",
    "#2 Parent local? \n",
    "#3 "
   ]
  },
  {
   "cell_type": "code",
   "execution_count": 104,
   "metadata": {},
   "outputs": [
    {
     "name": "stdout",
     "output_type": "stream",
     "text": [
      "inner: nonlocal\n",
      "outer: local\n"
     ]
    }
   ],
   "source": [
    "#Scope - what variables do I have access to? \n",
    "def outer():\n",
    "    x = \"local\"\n",
    "    def inner():\n",
    "        # nonlocal x\n",
    "        x = \"nonlocal\"\n",
    "        print(\"inner:\",x)\n",
    "\n",
    "    inner()\n",
    "    print(\"outer:\", x)\n",
    "\n",
    "outer()\n",
    "\n",
    "#1 Start with local\n",
    "#2 Parent local? \n",
    "#3 "
   ]
  },
  {
   "cell_type": "code",
   "execution_count": null,
   "metadata": {},
   "outputs": [],
   "source": []
  }
 ],
 "metadata": {
  "kernelspec": {
   "display_name": "bootcamp",
   "language": "python",
   "name": "python3"
  },
  "language_info": {
   "codemirror_mode": {
    "name": "ipython",
    "version": 3
   },
   "file_extension": ".py",
   "mimetype": "text/x-python",
   "name": "python",
   "nbconvert_exporter": "python",
   "pygments_lexer": "ipython3",
   "version": "3.10.0"
  }
 },
 "nbformat": 4,
 "nbformat_minor": 2
}
